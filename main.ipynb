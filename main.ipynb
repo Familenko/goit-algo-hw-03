{
 "cells": [
  {
   "cell_type": "markdown",
   "metadata": {},
   "source": [
    "# Завдання 1"
   ]
  },
  {
   "cell_type": "code",
   "execution_count": 4,
   "metadata": {},
   "outputs": [],
   "source": [
    "source_directory = \"data\"\n",
    "destination_directory = \"my_dis\"\n",
    "\n",
    "%run copy_file.py $source_directory $destination_directory"
   ]
  },
  {
   "cell_type": "markdown",
   "metadata": {},
   "source": [
    "# Завдання 2"
   ]
  },
  {
   "cell_type": "code",
   "execution_count": 1,
   "metadata": {},
   "outputs": [],
   "source": [
    "from koch_curve import draw_koch_curve"
   ]
  },
  {
   "cell_type": "code",
   "execution_count": 2,
   "metadata": {},
   "outputs": [
    {
     "name": "stderr",
     "output_type": "stream",
     "text": [
      "2024-10-04 12:02:27.333 Python[68662:3403893] WARNING: Secure coding is not enabled for restorable state! Enable secure coding by implementing NSApplicationDelegate.applicationSupportsSecureRestorableState: and returning YES.\n"
     ]
    }
   ],
   "source": [
    "draw_koch_curve(3)"
   ]
  },
  {
   "cell_type": "markdown",
   "metadata": {},
   "source": [
    "# Завдання 3"
   ]
  },
  {
   "cell_type": "code",
   "execution_count": 3,
   "metadata": {},
   "outputs": [
    {
     "name": "stdout",
     "output_type": "stream",
     "text": [
      "Move disk 1 from A to C\n",
      "Move disk 2 from A to B\n",
      "Move disk 1 from C to B\n",
      "Move disk 3 from A to C\n",
      "Move disk 1 from B to A\n",
      "Move disk 2 from B to C\n",
      "Move disk 1 from A to C\n"
     ]
    }
   ],
   "source": [
    "def hanoi(n, source, target, auxiliary):\n",
    "    if n == 1:\n",
    "        print(f\"Move disk 1 from {source} to {target}\")\n",
    "        return\n",
    "    hanoi(n-1, source, auxiliary, target)\n",
    "    print(f\"Move disk {n} from {source} to {target}\")\n",
    "    hanoi(n-1, auxiliary, target, source)\n",
    "\n",
    "n = 3\n",
    "hanoi(n, 'A', 'C', 'B')"
   ]
  },
  {
   "cell_type": "code",
   "execution_count": 6,
   "metadata": {},
   "outputs": [
    {
     "data": {
      "image/png": "[encoded data removed]",
      "text/plain": [
       "<Figure size 640x480 with 1 Axes>"
      ]
     },
     "metadata": {},
     "output_type": "display_data"
    }
   ],
   "source": [
    "import matplotlib.pyplot as plt\n",
    "import matplotlib.patches as patches\n",
    "from IPython.display import clear_output\n",
    "import time\n",
    "\n",
    "\n",
    "def draw_towers(towers, n, source, target, auxiliary):\n",
    "    clear_output(wait=True)\n",
    "    fig, ax = plt.subplots()\n",
    "    ax.set_xlim(0, 3)\n",
    "    ax.set_ylim(0, n + 1)\n",
    "    ax.set_xticks([0.5, 1.5, 2.5])\n",
    "    ax.set_xticklabels(['A', 'B', 'C'])\n",
    "    \n",
    "    colors = ['gray', 'gray', 'gray']\n",
    "    colors[source] = 'red'\n",
    "    colors[target] = 'green'\n",
    "    colors[auxiliary] = 'blue'\n",
    "    \n",
    "    for i in range(3):\n",
    "        ax.add_patch(patches.Rectangle((i, 0), 1, 0.1, color=colors[i]))\n",
    "        for j in range(len(towers[i])):\n",
    "            disk = towers[i][j]\n",
    "            ax.add_patch(patches.Rectangle((i + 0.5 - disk / 20, j + 0.1), disk / 10, 0.1, color='blue'))\n",
    "    \n",
    "    plt.show()\n",
    "    time.sleep(2)\n",
    "\n",
    "def hanoi(n, source, target, auxiliary, towers):\n",
    "    if n == 1:\n",
    "        towers[target].append(towers[source].pop())\n",
    "        draw_towers(towers, len(towers[0]) + len(towers[1]) + len(towers[2]), source, target, auxiliary)\n",
    "        return\n",
    "    hanoi(n-1, source, auxiliary, target, towers)\n",
    "    towers[target].append(towers[source].pop())\n",
    "    draw_towers(towers, len(towers[0]) + len(towers[1]) + len(towers[2]), source, target, auxiliary)\n",
    "    hanoi(n-1, auxiliary, target, source, towers)\n",
    "\n",
    "n = 5\n",
    "towers = [list(range(n, 0, -1)), [], []]\n",
    "draw_towers(towers, n, 0, 2, 1)\n",
    "hanoi(n, 0, 2, 1, towers)"
   ]
  },
  {
   "cell_type": "markdown",
   "metadata": {},
   "source": [
    "Зцієї візуалізації видно як найменший диск постійно переміщаєтся з права на ліво при непарній кількості дисків кожен другий хід. В свою чергу другий найменший диск серед незаблокованих дисків також робить хід кожен другий раз на незаблоковане місце"
   ]
  },
  {
   "cell_type": "markdown",
   "metadata": {},
   "source": []
  }
 ],
 "metadata": {
  "kernelspec": {
   "display_name": "Python 3",
   "language": "python",
   "name": "python3"
  },
  "language_info": {
   "codemirror_mode": {
    "name": "ipython",
    "version": 3
   },
   "file_extension": ".py",
   "mimetype": "text/x-python",
   "name": "python",
   "nbconvert_exporter": "python",
   "pygments_lexer": "ipython3",
   "version": "3.11.3"
  }
 },
 "nbformat": 4,
 "nbformat_minor": 2
}
